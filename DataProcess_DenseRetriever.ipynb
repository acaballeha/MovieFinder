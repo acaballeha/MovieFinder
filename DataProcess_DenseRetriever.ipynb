{
 "cells": [
  {
   "cell_type": "markdown",
   "metadata": {},
   "source": [
    "# Proyecto PLN  - Chatbot_IMDB"
   ]
  },
  {
   "cell_type": "code",
   "execution_count": 1,
   "metadata": {
    "executionInfo": {
     "elapsed": 790,
     "status": "ok",
     "timestamp": 1738253214613,
     "user": {
      "displayName": "Carlos Manzano Izquierdo",
      "userId": "02967202435940828294"
     },
     "user_tz": -60
    },
    "id": "-0LRfl7oCGHG"
   },
   "outputs": [],
   "source": [
    "# [![Open In Colab](https://colab.research.google.com/assets/colab-badge.svg)](https://colab.research.google.com/github/googlecolab/colabtools/blob/master/notebooks/colab-github-demo.ipynb)\n"
   ]
  },
  {
   "cell_type": "markdown",
   "metadata": {},
   "source": [
    "## Diccionario de traducción de genero IMDB"
   ]
  },
  {
   "cell_type": "code",
   "execution_count": 2,
   "metadata": {
    "executionInfo": {
     "elapsed": 234,
     "status": "ok",
     "timestamp": 1738254451742,
     "user": {
      "displayName": "Carlos Manzano Izquierdo",
      "userId": "02967202435940828294"
     },
     "user_tz": -60
    },
    "id": "iL-jZXAa_ZCh"
   },
   "outputs": [],
   "source": [
    "GENRES_IMDB = {\n",
    "    28: \"Action\",\n",
    "    12: \"Adventure\",\n",
    "    16: \"Animation\",\n",
    "    35: \"Comedy\",\n",
    "    80: \"Crime\",\n",
    "    99: \"Documentary\",\n",
    "    18: \"Drama\",\n",
    "    10751: \"Family\",\n",
    "    14: \"Fantasy\",\n",
    "    36: \"History\",\n",
    "    27: \"Horror\",\n",
    "    10402: \"Music\",\n",
    "    9648: \"Mystery\",\n",
    "    10749: \"Romance\",\n",
    "    878: \"Sci-Fi\",\n",
    "    10770: \"TV Movie\",\n",
    "    53: \"Thriller\",\n",
    "    10752: \"War\",\n",
    "    37: \"Western\"\n",
    "}\n",
    "\n",
    "GENRES_IMDB_INVERTED = {\n",
    "    \"Action\": 28,\n",
    "    \"Adventure\": 12,\n",
    "    \"Animation\": 16,\n",
    "    \"Comedy\": 35,\n",
    "    \"Crime\": 80,\n",
    "    \"Documentary\": 99,\n",
    "    \"Drama\": 18,\n",
    "    \"Family\": 10751,\n",
    "    \"Fantasy\": 14,\n",
    "    \"History\": 36,\n",
    "    \"Horror\": 27,\n",
    "    \"Music\": 10402,\n",
    "    \"Mystery\": 9648,\n",
    "    \"Romance\": 10749,\n",
    "    \"Sci-Fi\": 878,\n",
    "    \"TV Movie\": 10770,\n",
    "    \"Thriller\": 53,\n",
    "    \"War\": 10752,\n",
    "    \"Western\": 37\n",
    "}\n",
    "\n"
   ]
  },
  {
   "cell_type": "markdown",
   "metadata": {
    "id": "X7xBZRfaCHVG"
   },
   "source": [
    "# Scrapping de información con API"
   ]
  },
  {
   "cell_type": "code",
   "execution_count": 3,
   "metadata": {
    "colab": {
     "base_uri": "https://localhost:8080/"
    },
    "executionInfo": {
     "elapsed": 290485,
     "status": "ok",
     "timestamp": 1738253856102,
     "user": {
      "displayName": "Carlos Manzano Izquierdo",
      "userId": "02967202435940828294"
     },
     "user_tz": -60
    },
    "id": "mcMOzXhE9emx",
    "outputId": "0cbdfcb6-a714-44dd-f2ed-d0b194d998ff"
   },
   "outputs": [
    {
     "name": "stdout",
     "output_type": "stream",
     "text": [
      "✅ Se han guardado 10000 películas en ./peliculasPopulares10k.csv\n"
     ]
    }
   ],
   "source": [
    "import requests\n",
    "import json\n",
    "import time\n",
    "import pandas as pd\n",
    "import os\n",
    "\n",
    "# Configuración de la API\n",
    "API_KEY = \"c436a0598ba40f517d94fa3c9cc217d6\"  # Reemplaza con tu API Key de TMDB\n",
    "BASE_URL = \"https://api.themoviedb.org/3/movie/popular\"\n",
    "NUM_PELICULAS = 10000  # Número total de películas a descargar\n",
    "PELICULAS_POR_PAGINA = 20  # TMDB devuelve 20 películas por página\n",
    "paginas_a_descargar = (NUM_PELICULAS // PELICULAS_POR_PAGINA) + 1\n",
    "\n",
    "PATH_SAVE = \"./peliculasPopulares10k.csv\"\n",
    "\n",
    "# Ensure the directory exists\n",
    "os.makedirs(os.path.dirname(PATH_SAVE), exist_ok=True)\n",
    "\n",
    "def obtener_peliculas(n=NUM_PELICULAS):\n",
    "    peliculas = []\n",
    "    for pagina in range(1, paginas_a_descargar + 1):\n",
    "        url = f\"{BASE_URL}?api_key={API_KEY}&language=en-EN&page={pagina}\"\n",
    "        respuesta = requests.get(url)\n",
    "        if respuesta.status_code == 200:\n",
    "            datos = respuesta.json()\n",
    "            peliculas.extend(datos[\"results\"])\n",
    "        else:\n",
    "            print(f\"⚠ Error en la petición: {respuesta.status_code}\")\n",
    "            break\n",
    "        # Pausa para no exceder los límites de la API (40 peticiones/10s)\n",
    "        time.sleep(0.1)\n",
    "        # Detener si alcanzamos el límite deseado\n",
    "        if len(peliculas) >= n:\n",
    "            break\n",
    "\n",
    "    return peliculas[:n]\n",
    "\n",
    "# Obtener las películas más populares\n",
    "peliculas = obtener_peliculas(NUM_PELICULAS)\n",
    "\n",
    "# Crear un DataFrame y guardar en un archivo CSV\n",
    "df_peliculas = pd.DataFrame(peliculas)\n",
    "\n",
    "df_peliculas.to_csv(PATH_SAVE, index=False, encoding=\"utf-8\")\n",
    "\n",
    "print(f\"✅ Se han guardado {len(peliculas)} películas en {PATH_SAVE}\")"
   ]
  },
  {
   "cell_type": "markdown",
   "metadata": {
    "id": "i32i2yyPCVau"
   },
   "source": [
    "# Limpieza DataSet"
   ]
  },
  {
   "cell_type": "code",
   "execution_count": 4,
   "metadata": {
    "colab": {
     "base_uri": "https://localhost:8080/",
     "height": 206
    },
    "executionInfo": {
     "elapsed": 410,
     "status": "ok",
     "timestamp": 1738256160014,
     "user": {
      "displayName": "Carlos Manzano Izquierdo",
      "userId": "02967202435940828294"
     },
     "user_tz": -60
    },
    "id": "Go2pqmIiCr4_",
    "outputId": "ffe054da-c9e7-4372-f6f0-53b28a86fc53"
   },
   "outputs": [
    {
     "name": "stdout",
     "output_type": "stream",
     "text": [
      "✅ Archivo CSV guardado en ./peliculasPopulares10k_Procesado.csv\n"
     ]
    }
   ],
   "source": [
    "\n",
    "PATH_LOAD = \"./peliculasPopulares10k.csv\"\n",
    "\n",
    "# Leer el archivo CSV en chunks\n",
    "chunks = pd.read_csv(PATH_LOAD, encoding=\"utf-8\", sep=\",\", chunksize=1000)\n",
    "\n",
    "\n",
    "\n",
    "# Concatenate chunks into a single DataFrame\n",
    "df_peliculas = pd.concat(chunks, ignore_index=True)\n",
    "\n",
    "columnas = [ \"title\", \"release_date\", \"popularity\",\"original_language\", \"overview\", \"genre_ids\", \"adult\"]\n",
    "\n",
    "df_peliculas = df_peliculas[columnas]\n",
    "\n",
    "# Remove duplicate rows based on all columns\n",
    "df_peliculas.drop_duplicates(inplace=True)\n",
    "\n",
    "# Remove rows with missing values (NaN) in any column\n",
    "df_peliculas.dropna(inplace=True)\n",
    "\n",
    "# Reset the index after removing rows\n",
    "df_peliculas.reset_index(drop=True, inplace=True)\n",
    "\n",
    "df_peliculas.head()\n",
    "\n",
    "\n",
    "PATH_SAVE_PROCESADO = \"./peliculasPopulares10k_Procesado.csv\"\n",
    "# Guardar el DataFrame limpio en un archivo CSV\n",
    "df_peliculas.to_csv(PATH_SAVE_PROCESADO, index=False, encoding=\"utf-8\")\n",
    "print(f\"✅ Archivo CSV guardado en {PATH_SAVE_PROCESADO}\")\n",
    "\n",
    "\n"
   ]
  },
  {
   "cell_type": "markdown",
   "metadata": {
    "id": "zw90yVKkFNpN"
   },
   "source": [
    "## Funciones de filtro\n"
   ]
  },
  {
   "cell_type": "code",
   "execution_count": 5,
   "metadata": {
    "colab": {
     "base_uri": "https://localhost:8080/",
     "height": 206
    },
    "executionInfo": {
     "elapsed": 211,
     "status": "ok",
     "timestamp": 1738255664284,
     "user": {
      "displayName": "Carlos Manzano Izquierdo",
      "userId": "02967202435940828294"
     },
     "user_tz": -60
    },
    "id": "oNIK1uyMFMZR",
    "outputId": "5041c3dd-cabd-4cb4-e7ee-520bb9525635"
   },
   "outputs": [
    {
     "data": {
      "text/html": [
       "<div>\n",
       "<style scoped>\n",
       "    .dataframe tbody tr th:only-of-type {\n",
       "        vertical-align: middle;\n",
       "    }\n",
       "\n",
       "    .dataframe tbody tr th {\n",
       "        vertical-align: top;\n",
       "    }\n",
       "\n",
       "    .dataframe thead th {\n",
       "        text-align: right;\n",
       "    }\n",
       "</style>\n",
       "<table border=\"1\" class=\"dataframe\">\n",
       "  <thead>\n",
       "    <tr style=\"text-align: right;\">\n",
       "      <th></th>\n",
       "      <th>title</th>\n",
       "      <th>release_date</th>\n",
       "      <th>popularity</th>\n",
       "      <th>original_language</th>\n",
       "      <th>overview</th>\n",
       "      <th>genre_ids</th>\n",
       "      <th>adult</th>\n",
       "    </tr>\n",
       "  </thead>\n",
       "  <tbody>\n",
       "    <tr>\n",
       "      <th>42</th>\n",
       "      <td>My Fault</td>\n",
       "      <td>2023-06-08</td>\n",
       "      <td>442.550</td>\n",
       "      <td>es</td>\n",
       "      <td>Noah must leave her city, boyfriend, and frien...</td>\n",
       "      <td>[10749, 18]</td>\n",
       "      <td>False</td>\n",
       "    </tr>\n",
       "    <tr>\n",
       "      <th>55</th>\n",
       "      <td>Sonic the Hedgehog 2</td>\n",
       "      <td>2022-03-30</td>\n",
       "      <td>305.582</td>\n",
       "      <td>en</td>\n",
       "      <td>After settling in Green Hills, Sonic is eager ...</td>\n",
       "      <td>[28, 12, 10751, 35]</td>\n",
       "      <td>False</td>\n",
       "    </tr>\n",
       "    <tr>\n",
       "      <th>57</th>\n",
       "      <td>Sex Game 6969</td>\n",
       "      <td>2022-01-27</td>\n",
       "      <td>338.296</td>\n",
       "      <td>ko</td>\n",
       "      <td>Three married women had always been dissatisfi...</td>\n",
       "      <td>[35, 18, 10749]</td>\n",
       "      <td>False</td>\n",
       "    </tr>\n",
       "    <tr>\n",
       "      <th>78</th>\n",
       "      <td>Fast X</td>\n",
       "      <td>2023-05-17</td>\n",
       "      <td>250.448</td>\n",
       "      <td>en</td>\n",
       "      <td>Over many missions and against impossible odds...</td>\n",
       "      <td>[28, 80, 53]</td>\n",
       "      <td>False</td>\n",
       "    </tr>\n",
       "    <tr>\n",
       "      <th>83</th>\n",
       "      <td>365 Days: This Day</td>\n",
       "      <td>2022-04-26</td>\n",
       "      <td>231.718</td>\n",
       "      <td>pl</td>\n",
       "      <td>Laura and Massimo are back and hotter than eve...</td>\n",
       "      <td>[10749, 18]</td>\n",
       "      <td>False</td>\n",
       "    </tr>\n",
       "  </tbody>\n",
       "</table>\n",
       "</div>"
      ],
      "text/plain": [
       "                   title release_date  popularity original_language  \\\n",
       "42              My Fault   2023-06-08     442.550                es   \n",
       "55  Sonic the Hedgehog 2   2022-03-30     305.582                en   \n",
       "57         Sex Game 6969   2022-01-27     338.296                ko   \n",
       "78                Fast X   2023-05-17     250.448                en   \n",
       "83    365 Days: This Day   2022-04-26     231.718                pl   \n",
       "\n",
       "                                             overview            genre_ids  \\\n",
       "42  Noah must leave her city, boyfriend, and frien...          [10749, 18]   \n",
       "55  After settling in Green Hills, Sonic is eager ...  [28, 12, 10751, 35]   \n",
       "57  Three married women had always been dissatisfi...      [35, 18, 10749]   \n",
       "78  Over many missions and against impossible odds...         [28, 80, 53]   \n",
       "83  Laura and Massimo are back and hotter than eve...          [10749, 18]   \n",
       "\n",
       "    adult  \n",
       "42  False  \n",
       "55  False  \n",
       "57  False  \n",
       "78  False  \n",
       "83  False  "
      ]
     },
     "execution_count": 5,
     "metadata": {},
     "output_type": "execute_result"
    }
   ],
   "source": [
    "def getDataFrameGenero(genero):\n",
    "  if isinstance(genero, str):\n",
    "    genero=GENRES_IMDB_INVERTED[genero]\n",
    "  df_peliculas_genero = df_peliculas[df_peliculas['genre_ids'].apply(lambda x: genero in x)]\n",
    "  return df_peliculas_genero\n",
    "\n",
    "def getDataFrameLanguage(language):\n",
    "  df_peliculas_language = df_peliculas[df_peliculas['original_language'] == language]\n",
    "  return df_peliculas_language\n",
    "\n",
    "def getDataFrameYearRange(start_year, end_year):\n",
    "  \"\"\"\n",
    "  Filters the DataFrame to include movies released within a specified year range.\n",
    "\n",
    "  Args:\n",
    "    start_year: The starting year of the range (inclusive).\n",
    "    end_year: The ending year of the range (inclusive).\n",
    "\n",
    "  Returns:\n",
    "    A filtered DataFrame containing movies released within the specified range.\n",
    "  \"\"\"\n",
    "  df_peliculas_year_range = df_peliculas[\n",
    "      df_peliculas['release_date'].str.slice(0, 4).between(str(start_year), str(end_year))\n",
    "  ]\n",
    "  return df_peliculas_year_range\n",
    "\n",
    "# Example usage\n",
    "df_2020_to_2023_movies = getDataFrameYearRange(2020, 2023)\n",
    "# You can now work with the df_2020_to_2023_movies DataFrame\n",
    "\n",
    "df_2020_to_2023_movies.head()\n"
   ]
  },
  {
   "cell_type": "markdown",
   "metadata": {},
   "source": [
    "## Construcción de Dense Retriever Class"
   ]
  },
  {
   "cell_type": "code",
   "execution_count": 6,
   "metadata": {
    "executionInfo": {
     "elapsed": 181,
     "status": "ok",
     "timestamp": 1738259425026,
     "user": {
      "displayName": "Carlos Manzano Izquierdo",
      "userId": "02967202435940828294"
     },
     "user_tz": -60
    },
    "id": "lGafK7XjKc8H"
   },
   "outputs": [],
   "source": [
    "import pandas as pd\n",
    "import numpy as np\n",
    "import torch\n",
    "from sentence_transformers import SentenceTransformer\n",
    "from sklearn.metrics.pairwise import cosine_similarity\n",
    "\n",
    "import os\n",
    "\n",
    "class DenseRetriever:\n",
    "    def __init__(self, df, model_name=\"sentence-transformers/all-MiniLM-L6-v2\"):\n",
    "        \"\"\"\n",
    "        Inicializa el modelo de embeddings y almacena los embeddings en memoria.\n",
    "        :param df: DataFrame con las columnas [\"title\", \"overview\"].\n",
    "        :param model_name: Nombre del modelo de Hugging Face.\n",
    "        \"\"\"\n",
    "        self.df = df\n",
    "        self.model = SentenceTransformer(model_name)\n",
    "        self.embeddings = None\n",
    "\n",
    "        # Concatenar \"title + overview\" para generar embeddings\n",
    "        self.df[\"text\"] = self.df[\"title\"] + \" - \" + self.df[\"overview\"]\n",
    "\n",
    "        # Generar embeddings para las películas\n",
    "        self._generate_embeddings(\"./movie_embeddings.npy\") # Se puede añadir un path\n",
    "\n",
    "    def _generate_embeddings(self, pathEmbeddings=None):\n",
    "        \"\"\"Genera embeddings y los almacena en memoria.\"\"\"\n",
    "        if pathEmbeddings and os.path.exists(pathEmbeddings):\n",
    "            self.embeddings = np.load(pathEmbeddings)\n",
    "            print(f\"Embeddings cargados desde el archivo: {pathEmbeddings}\")\n",
    "        else:\n",
    "          print(\"🔹 Generando embeddings...\")\n",
    "          self.embeddings = self.model.encode(self.df[\"text\"].tolist(), convert_to_numpy=True)\n",
    "          np.save(\"movie_embeddings.npy\", self.embeddings)  # Guardar embeddings en un archivo .npy\n",
    "          print(\"✅ Embeddings generados.\")\n",
    "\n",
    "    def save_embeddings(self, path):\n",
    "        \"\"\"Guarda los embeddings en un archivo .npy.\"\"\"\n",
    "        np.save(path, self.embeddings)\n",
    "        print(f\"Embeddings guardados en: {path}\")\n",
    "\n",
    "\n",
    "    def search(self, query, top_k=5):\n",
    "        \"\"\"\n",
    "        Realiza una búsqueda utilizando similitud del coseno.\n",
    "        :param query: Texto de búsqueda.\n",
    "        :param top_k: Número de resultados a devolver.\n",
    "        :return: DataFrame con los resultados ordenados por similitud.\n",
    "        \"\"\"\n",
    "        print(f\"🔍 Buscando: {query}\")\n",
    "\n",
    "        # Convertir la query en embedding\n",
    "        query_embedding = self.model.encode([query], convert_to_numpy=True)\n",
    "\n",
    "        # Calcular similitud del coseno entre la query y los embeddings de las películas\n",
    "        similarities = cosine_similarity(query_embedding, self.embeddings)[0]\n",
    "\n",
    "        # Obtener los índices de los mejores resultados\n",
    "        best_indices = np.argsort(similarities)[::-1][:top_k]\n",
    "\n",
    "        # Recuperar las películas coincidentes\n",
    "        results = self.df.iloc[best_indices].copy()\n",
    "        results[\"similarity\"] = similarities[best_indices]\n",
    "\n",
    "        return results.sort_values(by=\"similarity\", ascending=False)\n",
    "\n"
   ]
  },
  {
   "cell_type": "markdown",
   "metadata": {},
   "source": [
    "## Preparación de embeddings"
   ]
  },
  {
   "cell_type": "markdown",
   "metadata": {},
   "source": [
    "### Carga del dataset procesado"
   ]
  },
  {
   "cell_type": "code",
   "execution_count": 7,
   "metadata": {},
   "outputs": [],
   "source": [
    "PATH_SAVE_PROCESADO = \"./peliculasPopulares10k_Procesado.csv\"\n",
    "df = pd.read_csv(PATH_SAVE_PROCESADO)"
   ]
  },
  {
   "cell_type": "markdown",
   "metadata": {},
   "source": [
    "### Carga de la clase Dense Retriever y generación de embeddings para el dataframe "
   ]
  },
  {
   "cell_type": "code",
   "execution_count": 8,
   "metadata": {
    "colab": {
     "base_uri": "https://localhost:8080/"
    },
    "executionInfo": {
     "elapsed": 430872,
     "status": "ok",
     "timestamp": 1738259861197,
     "user": {
      "displayName": "Carlos Manzano Izquierdo",
      "userId": "02967202435940828294"
     },
     "user_tz": -60
    },
    "id": "t1lmiY9kNdY3",
    "outputId": "30eb330e-a22f-448b-f9e4-b73462353f65"
   },
   "outputs": [
    {
     "name": "stdout",
     "output_type": "stream",
     "text": [
      "🔹 Generando embeddings...\n",
      "✅ Embeddings generados.\n"
     ]
    }
   ],
   "source": [
    "denseR=DenseRetriever(df)"
   ]
  },
  {
   "cell_type": "markdown",
   "metadata": {},
   "source": [
    "## Prueba de busqueda densa basada en query"
   ]
  },
  {
   "cell_type": "code",
   "execution_count": 9,
   "metadata": {
    "colab": {
     "base_uri": "https://localhost:8080/",
     "height": 1000
    },
    "executionInfo": {
     "elapsed": 837,
     "status": "ok",
     "timestamp": 1738260389608,
     "user": {
      "displayName": "Carlos Manzano Izquierdo",
      "userId": "02967202435940828294"
     },
     "user_tz": -60
    },
    "id": "2V8K3HHePTvB",
    "outputId": "f41a7175-9b82-420e-f402-d3e26fe50907"
   },
   "outputs": [
    {
     "name": "stdout",
     "output_type": "stream",
     "text": [
      "🔍 Buscando: a kid who learns kung fu with a old man on China\n"
     ]
    },
    {
     "data": {
      "text/html": [
       "<div>\n",
       "<style scoped>\n",
       "    .dataframe tbody tr th:only-of-type {\n",
       "        vertical-align: middle;\n",
       "    }\n",
       "\n",
       "    .dataframe tbody tr th {\n",
       "        vertical-align: top;\n",
       "    }\n",
       "\n",
       "    .dataframe thead th {\n",
       "        text-align: right;\n",
       "    }\n",
       "</style>\n",
       "<table border=\"1\" class=\"dataframe\">\n",
       "  <thead>\n",
       "    <tr style=\"text-align: right;\">\n",
       "      <th></th>\n",
       "      <th>title</th>\n",
       "      <th>release_date</th>\n",
       "      <th>popularity</th>\n",
       "      <th>original_language</th>\n",
       "      <th>overview</th>\n",
       "      <th>genre_ids</th>\n",
       "      <th>adult</th>\n",
       "      <th>text</th>\n",
       "      <th>similarity</th>\n",
       "    </tr>\n",
       "  </thead>\n",
       "  <tbody>\n",
       "    <tr>\n",
       "      <th>2094</th>\n",
       "      <td>Karate Kid: Legends</td>\n",
       "      <td>2025-05-28</td>\n",
       "      <td>40.495</td>\n",
       "      <td>en</td>\n",
       "      <td>After a family tragedy, kung fu prodigy Li Fon...</td>\n",
       "      <td>[28, 18, 10751]</td>\n",
       "      <td>False</td>\n",
       "      <td>Karate Kid: Legends - After a family tragedy, ...</td>\n",
       "      <td>0.691103</td>\n",
       "    </tr>\n",
       "    <tr>\n",
       "      <th>1327</th>\n",
       "      <td>Karate Kid: Legends</td>\n",
       "      <td>2025-05-28</td>\n",
       "      <td>40.495</td>\n",
       "      <td>en</td>\n",
       "      <td>After a family tragedy, kung fu prodigy Li Fon...</td>\n",
       "      <td>[28, 18, 10751]</td>\n",
       "      <td>False</td>\n",
       "      <td>Karate Kid: Legends - After a family tragedy, ...</td>\n",
       "      <td>0.691103</td>\n",
       "    </tr>\n",
       "    <tr>\n",
       "      <th>6475</th>\n",
       "      <td>Man of Tai Chi</td>\n",
       "      <td>2013-07-04</td>\n",
       "      <td>15.281</td>\n",
       "      <td>en</td>\n",
       "      <td>In Beijing, a young martial artist's skill pla...</td>\n",
       "      <td>[28, 18]</td>\n",
       "      <td>False</td>\n",
       "      <td>Man of Tai Chi - In Beijing, a young martial a...</td>\n",
       "      <td>0.597481</td>\n",
       "    </tr>\n",
       "    <tr>\n",
       "      <th>4962</th>\n",
       "      <td>Kung Fu Jungle</td>\n",
       "      <td>2014-10-31</td>\n",
       "      <td>18.453</td>\n",
       "      <td>zh</td>\n",
       "      <td>A martial arts instructor working at a police ...</td>\n",
       "      <td>[28, 53, 80, 12]</td>\n",
       "      <td>False</td>\n",
       "      <td>Kung Fu Jungle - A martial arts instructor wor...</td>\n",
       "      <td>0.589305</td>\n",
       "    </tr>\n",
       "    <tr>\n",
       "      <th>90</th>\n",
       "      <td>Kung Fu Panda 4</td>\n",
       "      <td>2024-03-02</td>\n",
       "      <td>215.393</td>\n",
       "      <td>en</td>\n",
       "      <td>Po is gearing up to become the spiritual leade...</td>\n",
       "      <td>[16, 10751, 14, 28]</td>\n",
       "      <td>False</td>\n",
       "      <td>Kung Fu Panda 4 - Po is gearing up to become t...</td>\n",
       "      <td>0.573977</td>\n",
       "    </tr>\n",
       "  </tbody>\n",
       "</table>\n",
       "</div>"
      ],
      "text/plain": [
       "                    title release_date  popularity original_language  \\\n",
       "2094  Karate Kid: Legends   2025-05-28      40.495                en   \n",
       "1327  Karate Kid: Legends   2025-05-28      40.495                en   \n",
       "6475       Man of Tai Chi   2013-07-04      15.281                en   \n",
       "4962       Kung Fu Jungle   2014-10-31      18.453                zh   \n",
       "90        Kung Fu Panda 4   2024-03-02     215.393                en   \n",
       "\n",
       "                                               overview            genre_ids  \\\n",
       "2094  After a family tragedy, kung fu prodigy Li Fon...      [28, 18, 10751]   \n",
       "1327  After a family tragedy, kung fu prodigy Li Fon...      [28, 18, 10751]   \n",
       "6475  In Beijing, a young martial artist's skill pla...             [28, 18]   \n",
       "4962  A martial arts instructor working at a police ...     [28, 53, 80, 12]   \n",
       "90    Po is gearing up to become the spiritual leade...  [16, 10751, 14, 28]   \n",
       "\n",
       "      adult                                               text  similarity  \n",
       "2094  False  Karate Kid: Legends - After a family tragedy, ...    0.691103  \n",
       "1327  False  Karate Kid: Legends - After a family tragedy, ...    0.691103  \n",
       "6475  False  Man of Tai Chi - In Beijing, a young martial a...    0.597481  \n",
       "4962  False  Kung Fu Jungle - A martial arts instructor wor...    0.589305  \n",
       "90    False  Kung Fu Panda 4 - Po is gearing up to become t...    0.573977  "
      ]
     },
     "execution_count": 9,
     "metadata": {},
     "output_type": "execute_result"
    }
   ],
   "source": [
    "query = \"a kid who learns kung fu with a old man on China\"\n",
    "results = denseR.search(query, 5)\n",
    "results"
   ]
  },
  {
   "cell_type": "code",
   "execution_count": 10,
   "metadata": {},
   "outputs": [
    {
     "name": "stdout",
     "output_type": "stream",
     "text": [
      "🔍 Buscando: A weapons businessman is kidnapped and becomes an armored superhero\n"
     ]
    },
    {
     "data": {
      "text/html": [
       "<div>\n",
       "<style scoped>\n",
       "    .dataframe tbody tr th:only-of-type {\n",
       "        vertical-align: middle;\n",
       "    }\n",
       "\n",
       "    .dataframe tbody tr th {\n",
       "        vertical-align: top;\n",
       "    }\n",
       "\n",
       "    .dataframe thead th {\n",
       "        text-align: right;\n",
       "    }\n",
       "</style>\n",
       "<table border=\"1\" class=\"dataframe\">\n",
       "  <thead>\n",
       "    <tr style=\"text-align: right;\">\n",
       "      <th></th>\n",
       "      <th>title</th>\n",
       "      <th>release_date</th>\n",
       "      <th>popularity</th>\n",
       "      <th>original_language</th>\n",
       "      <th>overview</th>\n",
       "      <th>genre_ids</th>\n",
       "      <th>adult</th>\n",
       "      <th>text</th>\n",
       "      <th>similarity</th>\n",
       "    </tr>\n",
       "  </thead>\n",
       "  <tbody>\n",
       "    <tr>\n",
       "      <th>3769</th>\n",
       "      <td>Super</td>\n",
       "      <td>2010-11-26</td>\n",
       "      <td>20.506</td>\n",
       "      <td>en</td>\n",
       "      <td>After his wife falls under the influence of a ...</td>\n",
       "      <td>[35, 28, 18]</td>\n",
       "      <td>False</td>\n",
       "      <td>Super - After his wife falls under the influen...</td>\n",
       "      <td>0.587949</td>\n",
       "    </tr>\n",
       "    <tr>\n",
       "      <th>299</th>\n",
       "      <td>Iron Man</td>\n",
       "      <td>2008-04-30</td>\n",
       "      <td>100.273</td>\n",
       "      <td>en</td>\n",
       "      <td>After being held captive in an Afghan cave, bi...</td>\n",
       "      <td>[28, 878, 12]</td>\n",
       "      <td>False</td>\n",
       "      <td>Iron Man - After being held captive in an Afgh...</td>\n",
       "      <td>0.563994</td>\n",
       "    </tr>\n",
       "    <tr>\n",
       "      <th>6262</th>\n",
       "      <td>The Great Arms Robbery</td>\n",
       "      <td>2022-04-09</td>\n",
       "      <td>14.700</td>\n",
       "      <td>zh</td>\n",
       "      <td>Agent Wen goes undercover to locate weapons fo...</td>\n",
       "      <td>[28, 80, 18]</td>\n",
       "      <td>False</td>\n",
       "      <td>The Great Arms Robbery - Agent Wen goes underc...</td>\n",
       "      <td>0.546860</td>\n",
       "    </tr>\n",
       "    <tr>\n",
       "      <th>2097</th>\n",
       "      <td>Commando</td>\n",
       "      <td>1985-10-03</td>\n",
       "      <td>28.813</td>\n",
       "      <td>en</td>\n",
       "      <td>John Matrix, the former leader of a special co...</td>\n",
       "      <td>[28, 12, 53]</td>\n",
       "      <td>False</td>\n",
       "      <td>Commando - John Matrix, the former leader of a...</td>\n",
       "      <td>0.492411</td>\n",
       "    </tr>\n",
       "    <tr>\n",
       "      <th>72</th>\n",
       "      <td>Armor</td>\n",
       "      <td>2024-10-30</td>\n",
       "      <td>252.688</td>\n",
       "      <td>en</td>\n",
       "      <td>Armored truck security guard James Brody is wo...</td>\n",
       "      <td>[28, 80, 53, 18]</td>\n",
       "      <td>False</td>\n",
       "      <td>Armor - Armored truck security guard James Bro...</td>\n",
       "      <td>0.480697</td>\n",
       "    </tr>\n",
       "    <tr>\n",
       "      <th>397</th>\n",
       "      <td>Iron Man 2</td>\n",
       "      <td>2010-04-28</td>\n",
       "      <td>83.981</td>\n",
       "      <td>en</td>\n",
       "      <td>With the world now aware of his dual life as t...</td>\n",
       "      <td>[12, 28, 878]</td>\n",
       "      <td>False</td>\n",
       "      <td>Iron Man 2 - With the world now aware of his d...</td>\n",
       "      <td>0.472264</td>\n",
       "    </tr>\n",
       "    <tr>\n",
       "      <th>3007</th>\n",
       "      <td>Ransom</td>\n",
       "      <td>1996-11-08</td>\n",
       "      <td>24.251</td>\n",
       "      <td>en</td>\n",
       "      <td>When a rich man's son is kidnapped, he coopera...</td>\n",
       "      <td>[28, 53]</td>\n",
       "      <td>False</td>\n",
       "      <td>Ransom - When a rich man's son is kidnapped, h...</td>\n",
       "      <td>0.469037</td>\n",
       "    </tr>\n",
       "    <tr>\n",
       "      <th>5350</th>\n",
       "      <td>6 Bullets</td>\n",
       "      <td>2012-09-11</td>\n",
       "      <td>16.150</td>\n",
       "      <td>en</td>\n",
       "      <td>An ex-mercenary known for finding missing chil...</td>\n",
       "      <td>[53, 28, 80]</td>\n",
       "      <td>False</td>\n",
       "      <td>6 Bullets - An ex-mercenary known for finding ...</td>\n",
       "      <td>0.468657</td>\n",
       "    </tr>\n",
       "    <tr>\n",
       "      <th>4640</th>\n",
       "      <td>Iron Man &amp; Captain America: Heroes United</td>\n",
       "      <td>2014-07-29</td>\n",
       "      <td>17.686</td>\n",
       "      <td>en</td>\n",
       "      <td>Iron Man and Captain America battle to keep th...</td>\n",
       "      <td>[12, 16, 28]</td>\n",
       "      <td>False</td>\n",
       "      <td>Iron Man &amp; Captain America: Heroes United - Ir...</td>\n",
       "      <td>0.467726</td>\n",
       "    </tr>\n",
       "    <tr>\n",
       "      <th>2179</th>\n",
       "      <td>Watchmen: Chapter I</td>\n",
       "      <td>2024-08-12</td>\n",
       "      <td>29.722</td>\n",
       "      <td>en</td>\n",
       "      <td>In 1985, the murder of a government-sponsored ...</td>\n",
       "      <td>[16, 18, 878]</td>\n",
       "      <td>False</td>\n",
       "      <td>Watchmen: Chapter I - In 1985, the murder of a...</td>\n",
       "      <td>0.467210</td>\n",
       "    </tr>\n",
       "  </tbody>\n",
       "</table>\n",
       "</div>"
      ],
      "text/plain": [
       "                                          title release_date  popularity  \\\n",
       "3769                                      Super   2010-11-26      20.506   \n",
       "299                                    Iron Man   2008-04-30     100.273   \n",
       "6262                     The Great Arms Robbery   2022-04-09      14.700   \n",
       "2097                                   Commando   1985-10-03      28.813   \n",
       "72                                        Armor   2024-10-30     252.688   \n",
       "397                                  Iron Man 2   2010-04-28      83.981   \n",
       "3007                                     Ransom   1996-11-08      24.251   \n",
       "5350                                  6 Bullets   2012-09-11      16.150   \n",
       "4640  Iron Man & Captain America: Heroes United   2014-07-29      17.686   \n",
       "2179                        Watchmen: Chapter I   2024-08-12      29.722   \n",
       "\n",
       "     original_language                                           overview  \\\n",
       "3769                en  After his wife falls under the influence of a ...   \n",
       "299                 en  After being held captive in an Afghan cave, bi...   \n",
       "6262                zh  Agent Wen goes undercover to locate weapons fo...   \n",
       "2097                en  John Matrix, the former leader of a special co...   \n",
       "72                  en  Armored truck security guard James Brody is wo...   \n",
       "397                 en  With the world now aware of his dual life as t...   \n",
       "3007                en  When a rich man's son is kidnapped, he coopera...   \n",
       "5350                en  An ex-mercenary known for finding missing chil...   \n",
       "4640                en  Iron Man and Captain America battle to keep th...   \n",
       "2179                en  In 1985, the murder of a government-sponsored ...   \n",
       "\n",
       "             genre_ids  adult  \\\n",
       "3769      [35, 28, 18]  False   \n",
       "299      [28, 878, 12]  False   \n",
       "6262      [28, 80, 18]  False   \n",
       "2097      [28, 12, 53]  False   \n",
       "72    [28, 80, 53, 18]  False   \n",
       "397      [12, 28, 878]  False   \n",
       "3007          [28, 53]  False   \n",
       "5350      [53, 28, 80]  False   \n",
       "4640      [12, 16, 28]  False   \n",
       "2179     [16, 18, 878]  False   \n",
       "\n",
       "                                                   text  similarity  \n",
       "3769  Super - After his wife falls under the influen...    0.587949  \n",
       "299   Iron Man - After being held captive in an Afgh...    0.563994  \n",
       "6262  The Great Arms Robbery - Agent Wen goes underc...    0.546860  \n",
       "2097  Commando - John Matrix, the former leader of a...    0.492411  \n",
       "72    Armor - Armored truck security guard James Bro...    0.480697  \n",
       "397   Iron Man 2 - With the world now aware of his d...    0.472264  \n",
       "3007  Ransom - When a rich man's son is kidnapped, h...    0.469037  \n",
       "5350  6 Bullets - An ex-mercenary known for finding ...    0.468657  \n",
       "4640  Iron Man & Captain America: Heroes United - Ir...    0.467726  \n",
       "2179  Watchmen: Chapter I - In 1985, the murder of a...    0.467210  "
      ]
     },
     "execution_count": 10,
     "metadata": {},
     "output_type": "execute_result"
    }
   ],
   "source": [
    "query = \"A weapons businessman is kidnapped and becomes an armored superhero\"\n",
    "results = denseR.search(query, 10)\n",
    "results"
   ]
  }
 ],
 "metadata": {
  "accelerator": "TPU",
  "colab": {
   "gpuType": "V28",
   "provenance": []
  },
  "kernelspec": {
   "display_name": "torchenv",
   "language": "python",
   "name": "python3"
  },
  "language_info": {
   "codemirror_mode": {
    "name": "ipython",
    "version": 3
   },
   "file_extension": ".py",
   "mimetype": "text/x-python",
   "name": "python",
   "nbconvert_exporter": "python",
   "pygments_lexer": "ipython3",
   "version": "3.10.15"
  }
 },
 "nbformat": 4,
 "nbformat_minor": 0
}
